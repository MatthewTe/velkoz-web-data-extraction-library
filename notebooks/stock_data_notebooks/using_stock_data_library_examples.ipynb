{
 "cells": [
  {
   "cell_type": "markdown",
   "metadata": {},
   "source": [
    "# Velkoz Stock Data Extraction and Ingestion API\n",
    "\n",
    "Documentation is hard. So this notebook provides examples and descriptions of how to make use of the velkoz web extraction library to extract and write data to a database. This notebook specifically focuses on the stock data module of the library and the APIs that are available.\n",
    "\n",
    "This is more of a use-guide (although some explanation of architecture / justifications will be done). It assumes that you have a base understanding of how velkoz classes are used to extract and ingest data. See the [sphinx documentation](https://github.com/MatthewTe/velkoz_web_data_extraction_library/tree/master/docs) about `base objects` for an outline. \n",
    "\n"
   ]
  },
  {
   "cell_type": "markdown",
   "metadata": {},
   "source": [
    "## Stock Price Data\n",
    "\n",
    "Like all good stock data web scraping libraries, the velkoz library gets its time series price data from Yahoo Finance. Actually its even worse than that. The library shamelessly makes use of the existing [yfinance](https://pypi.org/project/yfinance/) python package to perform the actual heavy lifting of extracting of performing the request to Yahoo Finance servers. \n",
    "\n",
    "The price data web objects simply wrap this functionality in a way that is compatible with the velkoz framework of data ingestion. **Seriously, show some love to the [creator](https://github.com/ranaroussi/yfinance) of the yfinance packag, people like them are carrying the python quant community on its back.**\n",
    "\n",
    "\n",
    "### Necessary Objects:\n",
    "The two main objects that are used to extract and write data are:\n",
    "\n",
    "* ##### StockPriceResponseObject: Extracting stock price data from the Yahoo Finance Server\n",
    "* ##### StockPriceDataIngestionEngine: Writing extracted data to the database\n"
   ]
  },
  {
   "cell_type": "code",
   "execution_count": 1,
   "metadata": {},
   "outputs": [],
   "source": [
    "# Importing necessary velkoz objects:\n",
    "from velkoz_web_packages.objects_stock_data.objects_stock_price.web_objects_stock_price import NASDAQStockPriceResponseObject\n",
    "from velkoz_web_packages.objects_stock_data.objects_stock_price.ingestion_engines_stock_price import StockPriceDataIngestionEngine"
   ]
  },
  {
   "cell_type": "markdown",
   "metadata": {},
   "source": [
    "### Extracing Raw Price Timeseries:\n",
    "\n",
    "Data is extracted through the creation of a PriceResponse Object:"
   ]
  },
  {
   "cell_type": "code",
   "execution_count": 2,
   "metadata": {},
   "outputs": [],
   "source": [
    "# Creating ResponseObject that makes call to Yahoo Finance Servers for max price history data:\n",
    "tsla = NASDAQStockPriceResponseObject(\"TSLA\")\n",
    "aapl = NASDAQStockPriceResponseObject(\"AAPL\")\n",
    "icln = NASDAQStockPriceResponseObject(\"ICLN\")"
   ]
  },
  {
   "cell_type": "code",
   "execution_count": 3,
   "metadata": {},
   "outputs": [
    {
     "name": "stdout",
     "output_type": "stream",
     "text": [
      "Ticker: TSLA\n",
      "Time Method Was Called: 2020-11-27 02:02:27.324086\n",
      "              open    high     low   close    volume  dividends  stock_splits\n",
      "Date                                                                         \n",
      "2010-06-29    3.80    5.00    3.51    4.78  93831500          0           0.0\n",
      "2010-06-30    5.16    6.08    4.66    4.77  85935500          0           0.0\n",
      "2010-07-01    5.00    5.18    4.05    4.39  41094000          0           0.0\n",
      "2010-07-02    4.60    4.62    3.74    3.84  25699000          0           0.0\n",
      "2010-07-06    4.00    4.00    3.17    3.22  34334500          0           0.0\n",
      "...            ...     ...     ...     ...       ...        ...           ...\n",
      "2020-11-19  492.00  508.61  487.57  499.27  62475300          0           0.0\n",
      "2020-11-20  497.99  502.50  489.06  489.61  32807300          0           0.0\n",
      "2020-11-23  503.50  526.00  501.79  521.85  50260300          0           0.0\n",
      "2020-11-24  540.40  559.99  526.20  555.38  53648500          0           0.0\n",
      "2020-11-25  550.06  574.00  545.37  574.00  48930200          0           0.0\n",
      "\n",
      "[2623 rows x 7 columns]\n"
     ]
    }
   ],
   "source": [
    "# Data can be accessed through intenal StockPriceResponseObject parameters:\n",
    "print(\"Ticker:\", tsla._ticker) # str\n",
    "print(\"Time Method Was Called:\" ,tsla._initialized_time) # float\n",
    "print(tsla._price_history_full) # DataFrame"
   ]
  },
  {
   "cell_type": "markdown",
   "metadata": {},
   "source": [
    "### Writing Extracted Price Data To Database:\n",
    "\n",
    "The data extracted via a PriceResponse Object then needs to be added to an instance of an Ingestion Engine, which is then used to write data to the database:"
   ]
  },
  {
   "cell_type": "code",
   "execution_count": 4,
   "metadata": {},
   "outputs": [],
   "source": [
    "# Creating Ingestion Engine:\n",
    "example_uri = \"sqlite:///:memory:\" # In-memeory SQLITE database for demo purposes.\n",
    "stock_ingestion_engine = StockPriceDataIngestionEngine(example_uri, tsla)"
   ]
  },
  {
   "cell_type": "code",
   "execution_count": 5,
   "metadata": {},
   "outputs": [
    {
     "name": "stdout",
     "output_type": "stream",
     "text": [
      "[yfinance.Ticker object <TSLA>]\n"
     ]
    }
   ],
   "source": [
    "# tsla PriceResponse Object is now stored within the Ingestinon Engines' internal que:\n",
    "print(stock_ingestion_engine._WebPageResponseObjs)"
   ]
  },
  {
   "cell_type": "code",
   "execution_count": 6,
   "metadata": {},
   "outputs": [
    {
     "name": "stdout",
     "output_type": "stream",
     "text": [
      "[]\n",
      "[yfinance.Ticker object <TSLA>, yfinance.Ticker object <AAPL>, yfinance.Ticker object <ICLN>]\n"
     ]
    }
   ],
   "source": [
    "# Ingestion Engine Que can be modified as such:\n",
    "\n",
    "# Empty Web Object Que\n",
    "stock_ingestion_engine._purge_web_obj_que() \n",
    "print(stock_ingestion_engine._WebPageResponseObjs)\n",
    "\n",
    "# Insert Web Object into Que:\n",
    "stock_ingestion_engine._insert_web_obj(tsla)\n",
    "stock_ingestion_engine._insert_web_obj(aapl)\n",
    "stock_ingestion_engine._insert_web_obj(icln)\n",
    "print(stock_ingestion_engine._WebPageResponseObjs)"
   ]
  },
  {
   "cell_type": "code",
   "execution_count": 7,
   "metadata": {},
   "outputs": [
    {
     "name": "stdout",
     "output_type": "stream",
     "text": [
      "2020-11-27 02:02:29,149 INFO sqlalchemy.engine.base.Engine SELECT CAST('test plain returns' AS VARCHAR(60)) AS anon_1\n",
      "2020-11-27 02:02:29,151 INFO sqlalchemy.engine.base.Engine ()\n",
      "2020-11-27 02:02:29,153 INFO sqlalchemy.engine.base.Engine SELECT CAST('test unicode returns' AS VARCHAR(60)) AS anon_1\n",
      "2020-11-27 02:02:29,154 INFO sqlalchemy.engine.base.Engine ()\n",
      "2020-11-27 02:02:29,157 INFO sqlalchemy.engine.base.Engine PRAGMA main.table_info(\"TSLA_price_history\")\n",
      "2020-11-27 02:02:29,167 INFO sqlalchemy.engine.base.Engine ()\n",
      "2020-11-27 02:02:29,170 INFO sqlalchemy.engine.base.Engine PRAGMA temp.table_info(\"TSLA_price_history\")\n",
      "2020-11-27 02:02:29,171 INFO sqlalchemy.engine.base.Engine ()\n",
      "2020-11-27 02:02:29,174 INFO sqlalchemy.engine.base.Engine \n",
      "CREATE TABLE \"TSLA_price_history\" (\n",
      "\t\"Date\" DATETIME, \n",
      "\topen FLOAT, \n",
      "\thigh FLOAT, \n",
      "\tlow FLOAT, \n",
      "\tclose FLOAT, \n",
      "\tvolume BIGINT, \n",
      "\tdividends BIGINT, \n",
      "\tstock_splits FLOAT\n",
      ")\n",
      "\n",
      "\n",
      "2020-11-27 02:02:29,175 INFO sqlalchemy.engine.base.Engine ()\n",
      "2020-11-27 02:02:29,176 INFO sqlalchemy.engine.base.Engine COMMIT\n",
      "2020-11-27 02:02:29,177 INFO sqlalchemy.engine.base.Engine CREATE INDEX \"ix_TSLA_price_history_Date\" ON \"TSLA_price_history\" (\"Date\")\n",
      "2020-11-27 02:02:29,178 INFO sqlalchemy.engine.base.Engine ()\n",
      "2020-11-27 02:02:29,180 INFO sqlalchemy.engine.base.Engine COMMIT\n",
      "2020-11-27 02:02:29,192 INFO sqlalchemy.engine.base.Engine BEGIN (implicit)\n",
      "2020-11-27 02:02:29,242 INFO sqlalchemy.engine.base.Engine INSERT INTO \"TSLA_price_history\" (\"Date\", open, high, low, close, volume, dividends, stock_splits) VALUES (?, ?, ?, ?, ?, ?, ?, ?)\n",
      "2020-11-27 02:02:29,244 INFO sqlalchemy.engine.base.Engine (('2010-06-29 00:00:00.000000', 3.8, 5.0, 3.51, 4.78, 93831500, 0, 0.0), ('2010-06-30 00:00:00.000000', 5.16, 6.08, 4.66, 4.77, 85935500, 0, 0.0), ('2010-07-01 00:00:00.000000', 5.0, 5.18, 4.05, 4.39, 41094000, 0, 0.0), ('2010-07-02 00:00:00.000000', 4.6, 4.62, 3.74, 3.84, 25699000, 0, 0.0), ('2010-07-06 00:00:00.000000', 4.0, 4.0, 3.17, 3.22, 34334500, 0, 0.0), ('2010-07-07 00:00:00.000000', 3.28, 3.33, 3.0, 3.16, 34608500, 0, 0.0), ('2010-07-08 00:00:00.000000', 3.23, 3.5, 3.11, 3.49, 38557000, 0, 0.0), ('2010-07-09 00:00:00.000000', 3.52, 3.58, 3.31, 3.48, 20253000, 0, 0.0)  ... displaying 10 of 2623 total bound parameter sets ...  ('2020-11-24 00:00:00.000000', 540.4, 559.99, 526.2, 555.38, 53648500, 0, 0.0), ('2020-11-25 00:00:00.000000', 550.06, 574.0, 545.37, 574.0, 48930200, 0, 0.0))\n",
      "2020-11-27 02:02:29,263 INFO sqlalchemy.engine.base.Engine COMMIT\n",
      "2020-11-27 02:02:29,265 INFO sqlalchemy.engine.base.Engine SELECT name FROM sqlite_master WHERE type='table' ORDER BY name\n",
      "2020-11-27 02:02:29,267 INFO sqlalchemy.engine.base.Engine ()\n",
      "2020-11-27 02:02:29,273 INFO sqlalchemy.engine.base.Engine PRAGMA main.table_info(\"AAPL_price_history\")\n",
      "2020-11-27 02:02:29,275 INFO sqlalchemy.engine.base.Engine ()\n",
      "2020-11-27 02:02:29,277 INFO sqlalchemy.engine.base.Engine PRAGMA temp.table_info(\"AAPL_price_history\")\n",
      "2020-11-27 02:02:29,278 INFO sqlalchemy.engine.base.Engine ()\n",
      "2020-11-27 02:02:29,280 INFO sqlalchemy.engine.base.Engine \n",
      "CREATE TABLE \"AAPL_price_history\" (\n",
      "\t\"Date\" DATETIME, \n",
      "\topen FLOAT, \n",
      "\thigh FLOAT, \n",
      "\tlow FLOAT, \n",
      "\tclose FLOAT, \n",
      "\tvolume BIGINT, \n",
      "\tdividends FLOAT, \n",
      "\tstock_splits FLOAT\n",
      ")\n",
      "\n",
      "\n",
      "2020-11-27 02:02:29,281 INFO sqlalchemy.engine.base.Engine ()\n",
      "2020-11-27 02:02:29,282 INFO sqlalchemy.engine.base.Engine COMMIT\n",
      "2020-11-27 02:02:29,283 INFO sqlalchemy.engine.base.Engine CREATE INDEX \"ix_AAPL_price_history_Date\" ON \"AAPL_price_history\" (\"Date\")\n",
      "2020-11-27 02:02:29,283 INFO sqlalchemy.engine.base.Engine ()\n",
      "2020-11-27 02:02:29,284 INFO sqlalchemy.engine.base.Engine COMMIT\n",
      "2020-11-27 02:02:29,306 INFO sqlalchemy.engine.base.Engine BEGIN (implicit)\n",
      "2020-11-27 02:02:29,427 INFO sqlalchemy.engine.base.Engine INSERT INTO \"AAPL_price_history\" (\"Date\", open, high, low, close, volume, dividends, stock_splits) VALUES (?, ?, ?, ?, ?, ?, ?, ?)\n",
      "2020-11-27 02:02:29,428 INFO sqlalchemy.engine.base.Engine (('1980-12-12 00:00:00.000000', 0.1, 0.1, 0.1, 0.1, 469033600, 0.0, 0.0), ('1980-12-15 00:00:00.000000', 0.1, 0.1, 0.1, 0.1, 175884800, 0.0, 0.0), ('1980-12-16 00:00:00.000000', 0.09, 0.09, 0.09, 0.09, 105728000, 0.0, 0.0), ('1980-12-17 00:00:00.000000', 0.09, 0.09, 0.09, 0.09, 86441600, 0.0, 0.0), ('1980-12-18 00:00:00.000000', 0.09, 0.09, 0.09, 0.09, 73449600, 0.0, 0.0), ('1980-12-19 00:00:00.000000', 0.1, 0.1, 0.1, 0.1, 48630400, 0.0, 0.0), ('1980-12-22 00:00:00.000000', 0.1, 0.1, 0.1, 0.1, 37363200, 0.0, 0.0), ('1980-12-23 00:00:00.000000', 0.11, 0.11, 0.11, 0.11, 46950400, 0.0, 0.0)  ... displaying 10 of 10075 total bound parameter sets ...  ('2020-11-24 00:00:00.000000', 113.91, 115.85, 112.59, 115.17, 113874200, 0.0, 0.0), ('2020-11-25 00:00:00.000000', 115.55, 116.75, 115.17, 116.03, 76499200, 0.0, 0.0))\n",
      "2020-11-27 02:02:29,469 INFO sqlalchemy.engine.base.Engine COMMIT\n",
      "2020-11-27 02:02:29,472 INFO sqlalchemy.engine.base.Engine SELECT name FROM sqlite_master WHERE type='table' ORDER BY name\n",
      "2020-11-27 02:02:29,473 INFO sqlalchemy.engine.base.Engine ()\n",
      "2020-11-27 02:02:29,478 INFO sqlalchemy.engine.base.Engine PRAGMA main.table_info(\"ICLN_price_history\")\n",
      "2020-11-27 02:02:29,480 INFO sqlalchemy.engine.base.Engine ()\n",
      "2020-11-27 02:02:29,482 INFO sqlalchemy.engine.base.Engine PRAGMA temp.table_info(\"ICLN_price_history\")\n",
      "2020-11-27 02:02:29,483 INFO sqlalchemy.engine.base.Engine ()\n",
      "2020-11-27 02:02:29,485 INFO sqlalchemy.engine.base.Engine \n",
      "CREATE TABLE \"ICLN_price_history\" (\n",
      "\t\"Date\" DATETIME, \n",
      "\topen FLOAT, \n",
      "\thigh FLOAT, \n",
      "\tlow FLOAT, \n",
      "\tclose FLOAT, \n",
      "\tvolume BIGINT, \n",
      "\tdividends FLOAT, \n",
      "\tstock_splits BIGINT\n",
      ")\n",
      "\n",
      "\n",
      "2020-11-27 02:02:29,486 INFO sqlalchemy.engine.base.Engine ()\n",
      "2020-11-27 02:02:29,488 INFO sqlalchemy.engine.base.Engine COMMIT\n",
      "2020-11-27 02:02:29,489 INFO sqlalchemy.engine.base.Engine CREATE INDEX \"ix_ICLN_price_history_Date\" ON \"ICLN_price_history\" (\"Date\")\n",
      "2020-11-27 02:02:29,490 INFO sqlalchemy.engine.base.Engine ()\n",
      "2020-11-27 02:02:29,492 INFO sqlalchemy.engine.base.Engine COMMIT\n",
      "2020-11-27 02:02:29,507 INFO sqlalchemy.engine.base.Engine BEGIN (implicit)\n",
      "2020-11-27 02:02:29,553 INFO sqlalchemy.engine.base.Engine INSERT INTO \"ICLN_price_history\" (\"Date\", open, high, low, close, volume, dividends, stock_splits) VALUES (?, ?, ?, ?, ?, ?, ?, ?)\n",
      "2020-11-27 02:02:29,554 INFO sqlalchemy.engine.base.Engine (('2008-06-25 00:00:00.000000', 39.16, 39.7, 39.16, 39.55, 2100, 0.0, 0), ('2008-06-26 00:00:00.000000', 44.96, 44.96, 38.21, 38.26, 9800, 0.0, 0), ('2008-06-27 00:00:00.000000', 38.06, 38.06, 37.54, 37.59, 7700, 0.0, 0), ('2008-06-30 00:00:00.000000', 38.05, 38.19, 37.66, 37.66, 17100, 0.0, 0), ('2008-07-01 00:00:00.000000', 37.47, 37.47, 36.02, 36.57, 14900, 0.0, 0), ('2008-07-02 00:00:00.000000', 36.37, 36.37, 35.6, 35.6, 6700, 0.0, 0), ('2008-07-03 00:00:00.000000', 35.39, 35.62, 35.01, 35.6, 6000, 0.0, 0), ('2008-07-07 00:00:00.000000', 36.05, 36.13, 35.91, 35.91, 2600, 0.0, 0)  ... displaying 10 of 3129 total bound parameter sets ...  ('2020-11-24 00:00:00.000000', 22.72, 22.97, 22.36, 22.82, 6381100, 0.0, 0), ('2020-11-25 00:00:00.000000', 22.83, 23.25, 22.82, 23.21, 4788900, 0.0, 0))\n",
      "2020-11-27 02:02:29,572 INFO sqlalchemy.engine.base.Engine COMMIT\n",
      "2020-11-27 02:02:29,574 INFO sqlalchemy.engine.base.Engine SELECT name FROM sqlite_master WHERE type='table' ORDER BY name\n",
      "2020-11-27 02:02:29,575 INFO sqlalchemy.engine.base.Engine ()\n",
      "[]\n"
     ]
    }
   ],
   "source": [
    "# Actually Writing Price data to the database:\n",
    "stock_ingestion_engine._write_web_objects() # Echo is set to True\n",
    "\n",
    "# Writing data to database should empty the Ingestion Engine Que:\n",
    "print(stock_ingestion_engine._WebPageResponseObjs)"
   ]
  },
  {
   "cell_type": "markdown",
   "metadata": {},
   "source": [
    "## Fund Top 10 Holdings Data:\n",
    "\n",
    "The top 10 Fund holdings objects may only be of marginal use but it was low hanging fruit in terms of adding functionality to the library. It sends a request to Yahoo Finance servers (hand written this time, no finance package!) to extract the top-1o holdings data contained in the “holdings” tab of a fund.\n",
    "\n",
    "### Necessary Objects:\n",
    "The two main objects that are used to extract and write data are:\n",
    "\n",
    "* ##### FundHoldingsResponseObject: Extracting fund holdings data from the Yahoo Finance Server\n",
    "* ##### FundHoldingsDataIngestionEngine: Writing extracted data to the database."
   ]
  },
  {
   "cell_type": "code",
   "execution_count": 8,
   "metadata": {},
   "outputs": [],
   "source": [
    "# Importing velkoz modules:\n",
    "from velkoz_web_packages.objects_stock_data.objects_fund_holdings.web_objects_fund_holdings import NASDAQFundHoldingsResponseObject\n",
    "from velkoz_web_packages.objects_stock_data.objects_fund_holdings.ingestion_engines_fund_holdings import FundHoldingsDataIngestionEngine"
   ]
  },
  {
   "cell_type": "markdown",
   "metadata": {},
   "source": [
    "### Extracting Raw Fund Holdings Data:\n",
    "Data is extracted through the creation of a FundHoldingsResponse Object:"
   ]
  },
  {
   "cell_type": "code",
   "execution_count": 9,
   "metadata": {},
   "outputs": [],
   "source": [
    "# Creating Response Object that conatins data as internal parameters:\n",
    "icln = NASDAQFundHoldingsResponseObject('ICLN')\n",
    "voo = NASDAQFundHoldingsResponseObject('VOO')\n",
    "spy = NASDAQFundHoldingsResponseObject('SPY')"
   ]
  },
  {
   "cell_type": "code",
   "execution_count": 10,
   "metadata": {},
   "outputs": [
    {
     "name": "stdout",
     "output_type": "stream",
     "text": [
      "Fund Ticker: ICLN\n",
      "Generated Yahoo Finance URL: https://finance.yahoo.com/quote/ICLN/holdings\n",
      "                                       name  percent_holdings\n",
      "symbol                                                       \n",
      "FSLR                        First Solar Inc              5.28\n",
      "00968              Xinyi Solar Holdings Ltd              5.04\n",
      "ORSTED                           Orsted A/S              4.86\n",
      "CEN.NZ                   Contact Energy Ltd              4.82\n",
      "MEL.NZ                  Meridian Energy Ltd              4.82\n",
      "VWS                 Vestas Wind Systems A/S              4.74\n",
      "VER                              Verbund AG              4.68\n",
      "SGRE.BC  Siemens Gamesa Renewable Energy SA              4.58\n",
      "ENPH                     Enphase Energy Inc              4.41\n",
      "ORA                  Ormat Technologies Inc              4.07\n"
     ]
    }
   ],
   "source": [
    "# Accessing parameters contained within Response Object:\n",
    "print(\"Fund Ticker:\", icln._ticker) # string\n",
    "print(\"Generated Yahoo Finance URL:\", icln._yhfinance_url) # String\n",
    "# print(\"HTML Tag Containing Holdings Data:\", icln._holdings_tbl)\n",
    "print(icln._holdings_data)"
   ]
  },
  {
   "cell_type": "markdown",
   "metadata": {},
   "source": [
    "### Writing Extracted Price Data To Database:\n",
    "\n",
    "The data extracted via a FundHoldingsResponse Object then needs to be added to an instance of an Ingestion Engine, which is then used to write data to the database:"
   ]
  },
  {
   "cell_type": "code",
   "execution_count": 11,
   "metadata": {},
   "outputs": [],
   "source": [
    "# Creating Fund Holdings Ingestion Engine w/ In-Memory database:\n",
    "holdings_ingestion_eninge = FundHoldingsDataIngestionEngine(example_uri)"
   ]
  },
  {
   "cell_type": "code",
   "execution_count": 12,
   "metadata": {},
   "outputs": [
    {
     "name": "stdout",
     "output_type": "stream",
     "text": [
      "[WebObject(https://finance.yahoo.com/quote/ICLN/holdings_2020-11-27 02:02:32.323764)]\n",
      "[]\n",
      "[WebObject(https://finance.yahoo.com/quote/ICLN/holdings_2020-11-27 02:02:32.323764), WebObject(https://finance.yahoo.com/quote/VOO/holdings_2020-11-27 02:02:35.711480), WebObject(https://finance.yahoo.com/quote/SPY/holdings_2020-11-27 02:02:39.152541)]\n"
     ]
    }
   ],
   "source": [
    "# Showing Examples of all internal methods to add/remove data from Ingestion Engines' internal data que:\n",
    "\n",
    "# Adding an object to the que:\n",
    "holdings_ingestion_eninge._insert_web_obj(icln)\n",
    "print(holdings_ingestion_eninge._WebPageResponseObjs)\n",
    "\n",
    "# Purging the que:\n",
    "holdings_ingestion_eninge._purge_web_obj_que()\n",
    "print(holdings_ingestion_eninge._WebPageResponseObjs)\n",
    "\n",
    "# Re-Populating Que:\n",
    "holdings_ingestion_eninge._insert_web_obj(icln)\n",
    "holdings_ingestion_eninge._insert_web_obj(voo)\n",
    "holdings_ingestion_eninge._insert_web_obj(spy)\n",
    "print(holdings_ingestion_eninge._WebPageResponseObjs)"
   ]
  },
  {
   "cell_type": "code",
   "execution_count": 14,
   "metadata": {},
   "outputs": [
    {
     "name": "stdout",
     "output_type": "stream",
     "text": [
      "QUE After Ingestion: []\n"
     ]
    }
   ],
   "source": [
    "# Writing data to database (should empty que as a result):\n",
    "holdings_ingestion_eninge._write_web_objects() # Echo Is on.\n",
    "print(\"QUE After Ingestion:\", holdings_ingestion_eninge._WebPageResponseObjs)"
   ]
  },
  {
   "cell_type": "code",
   "execution_count": null,
   "metadata": {},
   "outputs": [],
   "source": [
    "# TODO: Add Stock DB Summary Objects to Notebooks."
   ]
  }
 ],
 "metadata": {
  "kernelspec": {
   "display_name": "Python 3",
   "language": "python",
   "name": "python3"
  },
  "language_info": {
   "codemirror_mode": {
    "name": "ipython",
    "version": 3
   },
   "file_extension": ".py",
   "mimetype": "text/x-python",
   "name": "python",
   "nbconvert_exporter": "python",
   "pygments_lexer": "ipython3",
   "version": "3.8.5"
  }
 },
 "nbformat": 4,
 "nbformat_minor": 4
}
